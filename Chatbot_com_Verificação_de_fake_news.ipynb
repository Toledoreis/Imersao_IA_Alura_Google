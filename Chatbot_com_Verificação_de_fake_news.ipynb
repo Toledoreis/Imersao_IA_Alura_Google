{
  "nbformat": 4,
  "nbformat_minor": 0,
  "metadata": {
    "colab": {
      "provenance": [],
      "authorship_tag": "ABX9TyO+eQFG5uAQ2RRDmmF/086v",
      "include_colab_link": true
    },
    "kernelspec": {
      "name": "python3",
      "display_name": "Python 3"
    },
    "language_info": {
      "name": "python"
    }
  },
  "cells": [
    {
      "cell_type": "markdown",
      "metadata": {
        "id": "view-in-github",
        "colab_type": "text"
      },
      "source": [
        "<a href=\"https://colab.research.google.com/github/Toledoreis/Imersao_IA_Alura_Google/blob/main/Chatbot_com_Verifica%C3%A7%C3%A3o_de_fake_news.ipynb\" target=\"_parent\"><img src=\"https://colab.research.google.com/assets/colab-badge.svg\" alt=\"Open In Colab\"/></a>"
      ]
    },
    {
      "cell_type": "code",
      "source": [
        "# Instalando o SDK do Google\n",
        "!pip install -q -U google-generativeai"
      ],
      "metadata": {
        "id": "LlKG9qB9TMuY"
      },
      "execution_count": 2,
      "outputs": []
    },
    {
      "cell_type": "code",
      "source": [
        "# Configurações iniciais\n",
        "import pathlib\n",
        "import textwrap\n",
        "import google.generativeai as genai\n",
        "\n",
        "from IPython.display import display\n",
        "from IPython.display import Markdown, HTML\n",
        "\n",
        "def to_markdown(text):\n",
        "  text = text.replace('•', '  *')\n",
        "  return Markdown(textwrap.indent(text, '> ', predicate=lambda _: True))\n",
        "\n",
        "# Acesse suas chaves de secret em Python via:\n",
        "from google.colab import userdata\n",
        "\n",
        "google_api_key = userdata.get(\"SECRET_KEY\")\n",
        "genai.configure(api_key=google_api_key)\n",
        "\n",
        "# Configurações do modelo\n",
        "generation_config = {\n",
        "  \"temperature\": 0,\n",
        "  \"candidate_count\": 1\n",
        "}\n",
        "\n",
        "safety_settings={\n",
        "    'HATE': 'BLOCK_NONE',\n",
        "    'HARASSMENT': 'BLOCK_NONE',\n",
        "    'SEXUAL' : 'BLOCK_NONE',\n",
        "    'DANGEROUS' : 'BLOCK_NONE'\n",
        "    }\n",
        "\n",
        "model = genai.GenerativeModel(model_name='gemini-1.0-pro',\n",
        "                                  generation_config=generation_config,\n",
        "                                  safety_settings=safety_settings,)\n",
        "\n",
        "chat = model.start_chat(history=[])"
      ],
      "metadata": {
        "id": "R3t5dcosTxwz"
      },
      "execution_count": 3,
      "outputs": []
    },
    {
      "cell_type": "code",
      "source": [
        "# Lista de palavras-chave relacionadas a tópicos comuns de fake news\n",
        "fake_news_keywords = [\n",
        "    # Sensacionalismo\n",
        "    \"inacreditável\", \"chocante\", \"absurdo\", \"bombástico\", \"escândalo\", \"segredo\", \"urgente\", \"alerta\", \"exclusivo\", \"denúncia\",\n",
        "    # Apelo emocional\n",
        "    \"revoltante\", \"comovente\", \"emocionante\", \"inspirador\", \"medo\", \"pânico\", \"terror\", \"ódio\", \"raiva\",\n",
        "    # Desinformação\n",
        "    \"farsa\", \"mentira\", \"manipulação\", \"conspiração\", \"complô\", \"encobrimento\", \"ocultação\", \"fake news\", \"desmascarando\",\n",
        "    # Generalizações\n",
        "    \"todos\", \"sempre\", \"nunca\", \"completamente\", \"totalmente\", \"absolutamente\",\n",
        "    # Política\n",
        "    \"fraude eleitoral\", \"ditadura\", \"comunismo\", \"socialismo\", \"globalismo\", \"elite\", \"sistema\", \"manipulação da mídia\", \"censura\", \"perseguição política\", \"impeachment\", \"golpe\",\n",
        "    # Saúde\n",
        "    \"cura milagrosa\", \"tratamento secreto\", \"remédio natural\", \"vacina obrigatória\", \"chip\", \"controle da mente\", \"efeito colateral\", \"perigo\", \"risco\", \"epidemia\", \"pandemia\", \"vírus chinês\",\n",
        "    # Economia\n",
        "    \"crise\", \"colapso\", \"falência\", \"hiperinflação\", \"dólar\", \"ouro\", \"bitcoin\", \"investimento secreto\", \"enriquecimento rápido\", \"pobreza\", \"desemprego\",\n",
        "    # Religião\n",
        "    \"fim dos tempos\", \"apocalipse\", \"anticristo\", \"maçonaria\", \"illuminati\", \"satanismo\", \"profecia\", \"milagre\", \"sinal divino\",\n",
        "    # Tecnologia\n",
        "    \"5G\", \"inteligência artificial\", \"robôs\", \"deepfake\", \"clonagem\", \"transumanismo\", \"controle\", \"vigilância\", \"espionagem\",\n",
        "    # Crimes\n",
        "    \"violência\", \"assassinato\", \"sequestro\", \"tráfico\", \"pedofilia\", \"corrupção\", \"impunidade\", \"bandido\", \"PCC\", \"CV\",\n",
        "    # Expressões populares\n",
        "    \"compartilhe antes que apaguem\", \"você não vai acreditar no que aconteceu\", \"isso está sendo escondido da população\", \"fontes confiáveis revelam\", \"a verdade que a mídia não te conta\", \"só os inteligentes vão entender\", \"não seja manipulado\",\n",
        "    # Phishing\n",
        "    \"você ganhou um prêmio\", \"sua conta foi hackeada\", \"clique aqui para desbloquear\", \"confirme seus dados\", \"jogo do tigrinho\",\n",
        "    # Tragédia no Rio Grande do Sul\n",
        "    \"culpa do governo\",\"ação humana\", \"desmatamento\",\"previsão\", \"ninguém avisou\",\"ajuda negada\", \"governo omisso\", \"corrupção\",\"número real de mortos\", \"escondendo os corpos\",\"doação falsa\", \"golpe\", \"sequestro\",\"culto\", \"seita\", \"castigo divino\",\"fim do mundo\", \"apocalipse\"\n",
        "]"
      ],
      "metadata": {
        "id": "kBMf3bxKT5hg"
      },
      "execution_count": 7,
      "outputs": []
    },
    {
      "cell_type": "code",
      "source": [
        "# Lista de URLs de sites de verificação de fake news\n",
        "fake_news_sites = [\n",
        "    \"https://www.aosfatos.org/\",\n",
        "    \"http://boatos.org/\",\n",
        "    \"https://noticias.uol.com.br/confere/\",\n",
        "    \"https://piaui.folha.uol.com.br/lupa/\",\n",
        "    \"https://politica.estadao.com.br/blogs/estadao-verifica/\",\n",
        "    \"https://toolbox.google.com/factcheck/explorer/search/list:recent;hl=pt\",\n",
        "    \"https://g1.globo.com/fato-ou-fake/\"\n",
        "]\n",
        "\n",
        "def check_fake_news(prompt):\n",
        "  prompt_lower = prompt.lower()\n",
        "  for keyword in fake_news_keywords:\n",
        "    if keyword in prompt_lower:\n",
        "      return True\n",
        "  return False\n",
        "\n",
        "print(\"Olá! Sou um chatbot que pode te ajudar a encontrar informações.\")\n",
        "\n",
        "prompt = input('Digite sua pergunta: ')\n",
        "\n",
        "while prompt != \"fim\":\n",
        "  if check_fake_news(prompt):\n",
        "    display(HTML(\"<div style='background-color: #fdd; padding: 10px; border: 1px solid #faa; border-radius: 5px;'>\"))\n",
        "    print(\"⚠️  Atenção!  ⚠️\")\n",
        "    print(\"Este tema é frequentemente alvo de notícias falsas. \")\n",
        "    print(\"Recomendamos que você verifique a informação em fontes confiáveis:\")\n",
        "    display(HTML(\"</div>\"))\n",
        "    for site in fake_news_sites:\n",
        "      display(HTML(f\"<a href='{site}' target='_blank'>- {site}</a><br>\"))\n",
        "\n",
        "  response = chat.send_message(prompt)\n",
        "  display(to_markdown(response.text))\n",
        "  prompt = input('Digite sua próxima pergunta ou \"fim\" para encerrar: ')\n",
        "\n",
        "print(\"Até a próxima!\")"
      ],
      "metadata": {
        "id": "cbKHubDNT9__"
      },
      "execution_count": null,
      "outputs": []
    }
  ]
}